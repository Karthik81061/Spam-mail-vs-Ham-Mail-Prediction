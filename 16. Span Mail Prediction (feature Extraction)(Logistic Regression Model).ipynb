{
 "cells": [
  {
   "cell_type": "code",
   "execution_count": 9,
   "id": "f1386dcf",
   "metadata": {},
   "outputs": [],
   "source": [
    "#https://drive.google.com/file/d/1uzbhec5TW_OjFr4UUZkoMm0rpyvYdhZw/view\n",
    "import pandas as pd\n",
    "import numpy as np\n",
    "from sklearn.model_selection import train_test_split\n",
    "from sklearn.linear_model import LogisticRegression\n",
    "from sklearn.metrics import accuracy_score\n",
    "\n",
    "from sklearn.feature_extraction.text import TfidfVectorizer"
   ]
  },
  {
   "cell_type": "code",
   "execution_count": 3,
   "id": "8686ca1e",
   "metadata": {},
   "outputs": [],
   "source": [
    "mails_data = pd.read_csv('mail_data.csv')"
   ]
  },
  {
   "cell_type": "code",
   "execution_count": 7,
   "id": "562da954",
   "metadata": {},
   "outputs": [
    {
     "data": {
      "text/html": [
       "<div>\n",
       "<style scoped>\n",
       "    .dataframe tbody tr th:only-of-type {\n",
       "        vertical-align: middle;\n",
       "    }\n",
       "\n",
       "    .dataframe tbody tr th {\n",
       "        vertical-align: top;\n",
       "    }\n",
       "\n",
       "    .dataframe thead th {\n",
       "        text-align: right;\n",
       "    }\n",
       "</style>\n",
       "<table border=\"1\" class=\"dataframe\">\n",
       "  <thead>\n",
       "    <tr style=\"text-align: right;\">\n",
       "      <th></th>\n",
       "      <th>Category</th>\n",
       "      <th>Message</th>\n",
       "    </tr>\n",
       "  </thead>\n",
       "  <tbody>\n",
       "    <tr>\n",
       "      <th>0</th>\n",
       "      <td>ham</td>\n",
       "      <td>Go until jurong point, crazy.. Available only ...</td>\n",
       "    </tr>\n",
       "    <tr>\n",
       "      <th>1</th>\n",
       "      <td>ham</td>\n",
       "      <td>Ok lar... Joking wif u oni...</td>\n",
       "    </tr>\n",
       "    <tr>\n",
       "      <th>2</th>\n",
       "      <td>spam</td>\n",
       "      <td>Free entry in 2 a wkly comp to win FA Cup fina...</td>\n",
       "    </tr>\n",
       "    <tr>\n",
       "      <th>3</th>\n",
       "      <td>ham</td>\n",
       "      <td>U dun say so early hor... U c already then say...</td>\n",
       "    </tr>\n",
       "    <tr>\n",
       "      <th>4</th>\n",
       "      <td>ham</td>\n",
       "      <td>Nah I don't think he goes to usf, he lives aro...</td>\n",
       "    </tr>\n",
       "  </tbody>\n",
       "</table>\n",
       "</div>"
      ],
      "text/plain": [
       "  Category                                            Message\n",
       "0      ham  Go until jurong point, crazy.. Available only ...\n",
       "1      ham                      Ok lar... Joking wif u oni...\n",
       "2     spam  Free entry in 2 a wkly comp to win FA Cup fina...\n",
       "3      ham  U dun say so early hor... U c already then say...\n",
       "4      ham  Nah I don't think he goes to usf, he lives aro..."
      ]
     },
     "execution_count": 7,
     "metadata": {},
     "output_type": "execute_result"
    }
   ],
   "source": [
    "mails_data.head()"
   ]
  },
  {
   "cell_type": "code",
   "execution_count": 8,
   "id": "2ea35d37",
   "metadata": {},
   "outputs": [
    {
     "data": {
      "text/plain": [
       "ham     4825\n",
       "spam     747\n",
       "Name: Category, dtype: int64"
      ]
     },
     "execution_count": 8,
     "metadata": {},
     "output_type": "execute_result"
    }
   ],
   "source": [
    "mails_data.Category.value_counts()"
   ]
  },
  {
   "cell_type": "code",
   "execution_count": 25,
   "id": "81478d4b",
   "metadata": {},
   "outputs": [],
   "source": [
    "mails_data.replace({'Category':{'spam':0,'ham':1}},inplace=True)"
   ]
  },
  {
   "cell_type": "code",
   "execution_count": 26,
   "id": "1a5a64b1",
   "metadata": {},
   "outputs": [],
   "source": [
    "# Separating the data as texts as label\n",
    "X= mails_data.Message"
   ]
  },
  {
   "cell_type": "code",
   "execution_count": 27,
   "id": "540a8739",
   "metadata": {},
   "outputs": [],
   "source": [
    "y=mails_data.Category"
   ]
  },
  {
   "cell_type": "code",
   "execution_count": 28,
   "id": "034847c7",
   "metadata": {},
   "outputs": [],
   "source": [
    "X_train,X_test,y_train,y_test = train_test_split(X,y,test_size=.2,stratify=y,random_state=3)"
   ]
  },
  {
   "cell_type": "markdown",
   "id": "efe677f1",
   "metadata": {},
   "source": [
    "### Feature Extraction1"
   ]
  },
  {
   "cell_type": "code",
   "execution_count": 29,
   "id": "4461d8c0",
   "metadata": {},
   "outputs": [],
   "source": [
    "feature_ext = TfidfVectorizer(min_df=1,stop_words='english',lowercase='True')"
   ]
  },
  {
   "cell_type": "code",
   "execution_count": 30,
   "id": "1cb0c709",
   "metadata": {},
   "outputs": [],
   "source": [
    "X_train_feature = feature_ext.fit_transform(X_train)\n",
    "X_test_feature = feature_ext.transform(X_test)"
   ]
  },
  {
   "cell_type": "code",
   "execution_count": 31,
   "id": "0c6c22c4",
   "metadata": {},
   "outputs": [
    {
     "data": {
      "text/plain": [
       "<4457x7493 sparse matrix of type '<class 'numpy.float64'>'\n",
       "\twith 34678 stored elements in Compressed Sparse Row format>"
      ]
     },
     "execution_count": 31,
     "metadata": {},
     "output_type": "execute_result"
    }
   ],
   "source": [
    "X_train_feature"
   ]
  },
  {
   "cell_type": "code",
   "execution_count": 32,
   "id": "735dc672",
   "metadata": {},
   "outputs": [],
   "source": [
    "y_train = y_train.astype('int')"
   ]
  },
  {
   "cell_type": "code",
   "execution_count": 33,
   "id": "67b10b0f",
   "metadata": {},
   "outputs": [],
   "source": [
    "y_test= y_test.astype('int')"
   ]
  },
  {
   "cell_type": "markdown",
   "id": "60bad84a",
   "metadata": {},
   "source": [
    "### Training the model"
   ]
  },
  {
   "cell_type": "code",
   "execution_count": 39,
   "id": "81501f5d",
   "metadata": {},
   "outputs": [],
   "source": [
    "lrmodel = LogisticRegression()"
   ]
  },
  {
   "cell_type": "code",
   "execution_count": 40,
   "id": "7dd7a5e2",
   "metadata": {},
   "outputs": [
    {
     "data": {
      "text/plain": [
       "LogisticRegression()"
      ]
     },
     "execution_count": 40,
     "metadata": {},
     "output_type": "execute_result"
    }
   ],
   "source": [
    "lrmodel.fit(X_train_feature,y_train)"
   ]
  },
  {
   "cell_type": "code",
   "execution_count": 44,
   "id": "06361a8d",
   "metadata": {},
   "outputs": [],
   "source": [
    "testpred = lrmodel.predict(X_test_feature)"
   ]
  },
  {
   "cell_type": "code",
   "execution_count": 45,
   "id": "66fe99a4",
   "metadata": {},
   "outputs": [
    {
     "data": {
      "text/plain": [
       "0.9721973094170404"
      ]
     },
     "execution_count": 45,
     "metadata": {},
     "output_type": "execute_result"
    }
   ],
   "source": [
    "accuracy_score(y_test,testpred)"
   ]
  },
  {
   "cell_type": "code",
   "execution_count": 47,
   "id": "35660e33",
   "metadata": {},
   "outputs": [],
   "source": [
    "trainpred = lrmodel.predict(X_train_feature)"
   ]
  },
  {
   "cell_type": "code",
   "execution_count": 48,
   "id": "736d477f",
   "metadata": {},
   "outputs": [
    {
     "data": {
      "text/plain": [
       "0.9670181736594121"
      ]
     },
     "execution_count": 48,
     "metadata": {},
     "output_type": "execute_result"
    }
   ],
   "source": [
    "accuracy_score(y_train,trainpred)"
   ]
  },
  {
   "cell_type": "code",
   "execution_count": 78,
   "id": "97f54835",
   "metadata": {},
   "outputs": [
    {
     "name": "stdout",
     "output_type": "stream",
     "text": [
      "Free entry in 2 a wkly comp to win FA Cup final tkts 21st May 2005. Text FA to 87121 to receive entry question(std txt rate)T&C's apply 08452810075over18's\n",
      ":::::::It is a Spam Mail::::::\n"
     ]
    }
   ],
   "source": [
    "userinp = str(input())\n",
    "def spampred(userinp):\n",
    "    data=[userinp]\n",
    "    data_feature_extract = feature_ext.transform(da)\n",
    "    return lrmodel.predict(data_feature_extract)\n",
    "\n",
    "output = spampred(userinp)\n",
    "if output == 1:\n",
    "    print(':::::::It is a Ham MAil::::::')\n",
    "else:\n",
    "    print(':::::::It is a Spam Mail::::::')"
   ]
  },
  {
   "cell_type": "code",
   "execution_count": 59,
   "id": "cd2552ea",
   "metadata": {},
   "outputs": [],
   "source": [
    "da = ['Free entry in 2 a wkly comp to win FA Cup final tkts 21st May 2005. Text FA to 87121 to receive entry question(std txt rate)T&C  apply 08452810075over18 s']"
   ]
  },
  {
   "cell_type": "code",
   "execution_count": null,
   "id": "78570dd7",
   "metadata": {},
   "outputs": [],
   "source": []
  }
 ],
 "metadata": {
  "kernelspec": {
   "display_name": "Python 3 (ipykernel)",
   "language": "python",
   "name": "python3"
  },
  "language_info": {
   "codemirror_mode": {
    "name": "ipython",
    "version": 3
   },
   "file_extension": ".py",
   "mimetype": "text/x-python",
   "name": "python",
   "nbconvert_exporter": "python",
   "pygments_lexer": "ipython3",
   "version": "3.9.13"
  }
 },
 "nbformat": 4,
 "nbformat_minor": 5
}
